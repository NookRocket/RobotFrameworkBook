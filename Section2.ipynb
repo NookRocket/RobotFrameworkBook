{
 "cells": [
  {
   "cell_type": "markdown",
   "metadata": {},
   "source": [
    "# Section 2 : Beginners Tutorial on Robot framework"
   ]
  },
  {
   "cell_type": "markdown",
   "metadata": {},
   "source": [
    "Project Structure\n",
    "- *Data*\n",
    "- *Output*    :   contains log that will be generated\n",
    "- *Resources* :  contains resource files\n",
    "- *Tests*  :  Create test cases here"
   ]
  },
  {
   "cell_type": "markdown",
   "metadata": {},
   "source": [
    "Robot Framework is key driven, need to declare the key\n",
    "There are 4 main sections\n",
    "1. Settings : declare library to call out the keywords, and documentation\n",
    "2. Keywords  :  declare keywords that contains compose layers\n",
    "3. Variables  :  declare variables\n",
    "4. Test Cases : write test cases"
   ]
  },
  {
   "cell_type": "markdown",
   "metadata": {
    "collapsed": false,
    "jupyter": {
     "outputs_hidden": false
    },
    "vscode": {
     "languageId": "raw"
    }
   },
   "source": [
    "[code]\n",
    "```robot\n",
    "*** Test Cases ***\n",
    "TEST\n",
    "    Log    This is my first test\n",
    "```\n",
    "[/code]"
   ]
  },
  {
   "cell_type": "markdown",
   "metadata": {},
   "source": [
    "TEST is a test case name"
   ]
  },
  {
   "cell_type": "markdown",
   "metadata": {},
   "source": [
    "-----------------------------------------------"
   ]
  },
  {
   "cell_type": "markdown",
   "metadata": {},
   "source": [
    "Running Multi Test Cases in Prompt command\n",
    "\n",
    " `robot <Root Directory>`\n"
   ]
  },
  {
   "cell_type": "markdown",
   "metadata": {},
   "source": [
    "---"
   ]
  },
  {
   "cell_type": "markdown",
   "metadata": {},
   "source": [
    "Output from executing a test case is going to be gerenated into 3 files\n",
    "* log.html :    contains file/script were executed\n",
    "* output.xml\n",
    "* report.html\n",
    "\n",
    "Specify Output Directory\n",
    "`-d <folder>`\n",
    "\n",
    "`robot -d <output_folder> <test_folder>`"
   ]
  },
  {
   "cell_type": "markdown",
   "metadata": {},
   "source": [
    "### Command Line Options"
   ]
  },
  {
   "cell_type": "markdown",
   "metadata": {},
   "source": [
    "**Random Running Test Cases**\n",
    "\n",
    "```robot --randomize All <directory>```"
   ]
  },
  {
   "cell_type": "markdown",
   "metadata": {},
   "source": [
    "Selecting test cases by tags\n",
    "`--include (-i)`\n"
   ]
  },
  {
   "cell_type": "markdown",
   "metadata": {
    "collapsed": false,
    "jupyter": {
     "outputs_hidden": false
    },
    "vscode": {
     "languageId": "raw"
    }
   },
   "source": [
    "[code]\n",
    "```robot\n",
    "*** Test Cases ***\n",
    "TEST\n",
    "    [Tags]    demo\n",
    "    Log        This is my first test\n",
    "```\n",
    "[/code]"
   ]
  },
  {
   "cell_type": "markdown",
   "metadata": {},
   "source": [
    "```\n",
    "robot --randomize ALL -i demo <directory>\n",
    "robot --randomize ALL -i demoANDdemo2 <directory>\n",
    "robot --randomize ALL -i demoORdemo2 <directory>\n",
    "```"
   ]
  },
  {
   "cell_type": "markdown",
   "metadata": {},
   "source": [
    "**Setting log level**\n",
    "\n",
    "`--loglevel (-L)`\n",
    "\n",
    "```\n",
    "robot --loglevel INFO <directory>\n",
    "robot --loglevel DEBUG <directory>\n",
    "robot --loglevel TRACE <directory>\n",
    "```"
   ]
  },
  {
   "cell_type": "markdown",
   "metadata": {},
   "source": [
    "---"
   ]
  },
  {
   "cell_type": "markdown",
   "metadata": {},
   "source": [
    "### Variables\n",
    "\n",
    "Normally, it is used to store values like Locators, password, browser name, and etc."
   ]
  },
  {
   "cell_type": "markdown",
   "metadata": {
    "collapsed": false,
    "jupyter": {
     "outputs_hidden": false
    }
   },
   "source": [
    "```robot\n",
    "*** Variables ***\n",
    "${MY-VARIABLE}     This is my first variable\n",
    "${MY-VARIABLE2}    This is my second variable \n",
    "\n",
    "\n",
    "*** Test Cases ***\n",
    "TEST\n",
    "    Log        ${MY-VARIABLE}\n",
    "    Log        ${MY-VARIABLE2}\n",
    "```"
   ]
  },
  {
   "cell_type": "markdown",
   "metadata": {},
   "source": [
    "List Type\n",
    "* start with @ to declare\n",
    "* start with $ to call"
   ]
  },
  {
   "cell_type": "markdown",
   "metadata": {},
   "source": [
    "```robot\n",
    "*** Variables ***\n",
    "@{LIST}     test    test2   test3   test4\n",
    "\n",
    "\n",
    "*** Test Cases ***\n",
    "TEST\n",
    "    Log        ${LIST}[2]\n",
    "    Log        ${LIST}[0]\n",
    "```"
   ]
  },
  {
   "cell_type": "markdown",
   "metadata": {},
   "source": [
    "Dictionary Type\n",
    "* start with & to declare\n",
    "* start with $ to call"
   ]
  },
  {
   "cell_type": "markdown",
   "metadata": {},
   "source": [
    "```robot\n",
    "*** Variables ***\n",
    "&{DICTIONARY}     username=testUser     password=demo\n",
    "\n",
    "\n",
    "*** Test Cases ***\n",
    "TEST\n",
    "    Log        ${DICTIONARY}[username]\n",
    "    Log        ${DICTIONARY}[password]\n",
    "```"
   ]
  },
  {
   "cell_type": "markdown",
   "metadata": {},
   "source": [
    "---"
   ]
  },
  {
   "cell_type": "markdown",
   "metadata": {},
   "source": [
    "### Keywords\n",
    "To contain composes"
   ]
  },
  {
   "cell_type": "markdown",
   "metadata": {},
   "source": [
    "[code]\n",
    "```robot\n",
    "*** Keywords ***\n",
    "Log My Username\n",
    "    Log        ${DICTIONARY}[username]\n",
    "\n",
    "Log My Password\n",
    "    Log        ${DICTIONARY}[password]\n",
    "\n",
    "Log Username And Password 1\n",
    "    Log        ${DICTIONARY}[username]\n",
    "    Log        ${DICTIONARY}[password]\n",
    "\n",
    "Log Username And Password 2\n",
    "    Log My Username\n",
    "    Log My Password\n",
    "\n",
    "*** Test Cases ***\n",
    "TEST\n",
    "    Log My Username\n",
    "    Log My Password\n",
    "    Log Username And Password 1\n",
    "    Log Username And Password 2\n",
    "```\n",
    "[/code]"
   ]
  },
  {
   "cell_type": "markdown",
   "metadata": {},
   "source": [
    "` Log Username And Password 2`\n",
    "\n",
    "It's going to be nested composes"
   ]
  },
  {
   "cell_type": "markdown",
   "metadata": {},
   "source": [
    "**Pass an argument to a keyword**"
   ]
  },
  {
   "cell_type": "markdown",
   "metadata": {},
   "source": [
    "[code]\n",
    "```robot\n",
    "*** Keywords ***\n",
    "Log My Specific Username\n",
    "    [Arguments]    ${USERNAME}\n",
    "    Log            ${USERNAME}\n",
    "\n",
    "*** Variables ***\n",
    "&{DICTIONARY}     username=testUser     password=demo\n",
    "&{DICTIONARY2}     username=testUser2     password=demo2\n",
    "\n",
    "*** Test Cases ***\n",
    "TEST\n",
    "    Log My Specific Username    ${DICTIONARY}[username]\n",
    "    Log My Specific Username    ${DICTIONARY2}[username]\n",
    "```\n",
    "[\\code]"
   ]
  },
  {
   "cell_type": "markdown",
   "metadata": {},
   "source": [
    "**Pass multi arguments to a keyword**"
   ]
  },
  {
   "cell_type": "markdown",
   "metadata": {},
   "source": [
    "[code]\n",
    "```robot\n",
    "*** Keywords ***\n",
    "Log My Specific Username\n",
    "    [Arguments]    ${USERNAME}\n",
    "    Log            ${USERNAME}\n",
    "\n",
    "Log My Specific Username And Password\n",
    "    [Arguments]                   ${USERNAME}    ${PASSWORD}\n",
    "    Log My Specific Username      ${USERNAME}\n",
    "    Log                           ${PASSWORD}\n",
    "\n",
    "*** Variables ***\n",
    "&{DICTIONARY}     username=testUser     password=demo\n",
    "&{DICTIONARY2}     username=testUser2     password=demo2\n",
    "\n",
    "*** Test Cases ***\n",
    "TEST\n",
    "    Log My Specific Username And Password    ${DICTIONARY2}[username]    ${DICTIONARY2}[password]\n",
    "\n",
    "```\n",
    "[\\code]"
   ]
  },
  {
   "cell_type": "markdown",
   "metadata": {},
   "source": [
    "---"
   ]
  },
  {
   "cell_type": "markdown",
   "metadata": {},
   "source": [
    "### Resource\n",
    "Keep resources to use in different test case files in order to no need to write same command every time.\n",
    "\n",
    "`Resource/resource.robot`"
   ]
  },
  {
   "cell_type": "markdown",
   "metadata": {},
   "source": [
    "Then load the resource into test cases"
   ]
  },
  {
   "cell_type": "markdown",
   "metadata": {},
   "source": [
    "[code]\n",
    "```robot\n",
    "*** Settings ***\n",
    "Resource    ../Resource/resource.robot\n",
    "```\n",
    "[/code]"
   ]
  },
  {
   "cell_type": "markdown",
   "metadata": {},
   "source": [
    "It will show where the compose was called in the output log"
   ]
  },
  {
   "attachments": {
    "image.png": {
     "image/png": "[encoded data removed]"
    }
   },
   "cell_type": "markdown",
   "metadata": {},
   "source": [
    "![image.png](attachment:image.png)"
   ]
  },
  {
   "cell_type": "markdown",
   "metadata": {},
   "source": [
    "### References\n",
    "#### Library\n",
    "* OperatingSystem\n",
    "https://robotframework.org/robotframework/latest/libraries/OperatingSystem.html\n",
    "\n",
    "#### Keywords\n",
    "* Log\n",
    "https://robotframework.org/robotframework/latest/libraries/BuiltIn.html#Log\n",
    "\n",
    "#### Tags\n",
    "https://robotframework.org/robotframework/latest/RobotFrameworkUserGuide.html#tag-patterns"
   ]
  }
 ],
 "metadata": {
  "kernelspec": {
   "display_name": "Python 3",
   "language": "python",
   "name": "python3"
  },
  "language_info": {
   "codemirror_mode": {
    "name": "ipython",
    "version": 3
   },
   "file_extension": ".py",
   "mimetype": "text/x-python",
   "name": "python",
   "nbconvert_exporter": "python",
   "pygments_lexer": "ipython3",
   "version": "3.9.2"
  }
 },
 "nbformat": 4,
 "nbformat_minor": 2
}
